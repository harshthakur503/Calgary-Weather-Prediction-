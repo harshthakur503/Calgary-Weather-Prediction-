{
 "cells": [
  {
   "cell_type": "code",
   "execution_count": null,
   "metadata": {},
   "outputs": [],
   "source": [
    "weather_data = []\n",
    "timestamp = start_timestamp\n",
    "while timestamp < datetime.datetime.now().timestamp():\n",
    "    weather_data.append(retrieve_weather_data(int(timestamp)))\n",
    "    timestamp += 86400  # Increment by 1 day (in seconds)"
   ]
  },
  {
   "cell_type": "code",
   "execution_count": null,
   "metadata": {},
   "outputs": [],
   "source": [
    "with open('weather_data.csv', 'w', newline='') as file:\n",
    "    writer = csv.writer(file)\n",
    "    \n",
    "    writer.writerow(['timestamp', 'temperature', 'pressure', 'humidity', 'wind_speed', 'wind_direction', 'description'])   # Write the header row\n",
    "\n",
    "    for data in weather_data:\n",
    "        timestamp = data['current']['dt']\n",
    "        temperature_kelvin = data['current']['temp']\n",
    "        temperature_celsius = kelvin_to_celcius(temperature_kelvin)\n",
    "        feelslike_kelvin = data['current']['feels_like']\n",
    "        feelslike_celsius = kelvin_to_celcius(feelslike_kelvin)\n",
    "        tempmin_kelvin = data['current']['temp_min']\n",
    "        tempmin_celsius = kelvin_to_celcius(tempmin_kelvin)\n",
    "        tempmax_kelvin = data['current']['temp_max']\n",
    "        tempmax_celsius = kelvin_to_celcius(tempmax_kelvin)\n",
    "        pressure = data['current']['pressure']\n",
    "        humidity = data['current']['humidity']\n",
    "        wind_speed = data['current']['wind_speed']\n",
    "        wind_direction = data['current']['wind_deg']\n",
    "        description = data['current']['weather'][0]['description']\n",
    "        \n",
    "        writer.writerow([timestamp, description, temperature_kelvin, temperature_celsius, tempmin_kelvin, tempmin_celsius, tempmax_kelvin, tempmax_celsius, pressure, humidity, wind_speed, wind_direction])\n",
    "\n",
    "\n"
   ]
  }
 ],
 "metadata": {
  "language_info": {
   "name": "python"
  },
  "orig_nbformat": 4
 },
 "nbformat": 4,
 "nbformat_minor": 2
}
